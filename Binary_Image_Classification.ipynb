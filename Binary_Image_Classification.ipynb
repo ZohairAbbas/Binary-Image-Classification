{
  "nbformat": 4,
  "nbformat_minor": 0,
  "metadata": {
    "colab": {
      "name": "Binary Image Classification.ipynb",
      "provenance": [],
      "collapsed_sections": []
    },
    "kernelspec": {
      "name": "python3",
      "display_name": "Python 3"
    },
    "language_info": {
      "name": "python"
    },
    "accelerator": "GPU"
  },
  "cells": [
    {
      "cell_type": "markdown",
      "metadata": {
        "id": "COUQG8j2UzxY"
      },
      "source": [
        "**Mounting Drive**"
      ]
    },
    {
      "cell_type": "code",
      "metadata": {
        "colab": {
          "base_uri": "https://localhost:8080/"
        },
        "id": "8qv-TRTU6KhD",
        "outputId": "7500a974-c1f6-4450-fb33-429f2f458273"
      },
      "source": [
        "try:\n",
        "    from google.colab import drive\n",
        "    drive.mount('/content/drive', force_remount=True)\n",
        "    COLAB = True\n",
        "    print(\"Note: using Google CoLab\")\n",
        "    %tensorflow_version 2.x\n",
        "except:\n",
        "    print(\"Note: not using Google CoLab\")\n",
        "    COLAB = False"
      ],
      "execution_count": 1,
      "outputs": [
        {
          "output_type": "stream",
          "text": [
            "Mounted at /content/drive\n",
            "Note: using Google CoLab\n"
          ],
          "name": "stdout"
        }
      ]
    },
    {
      "cell_type": "markdown",
      "metadata": {
        "id": "J3HZ0iN3U6in"
      },
      "source": [
        "**Necessary Imports**"
      ]
    },
    {
      "cell_type": "code",
      "metadata": {
        "id": "gfhmEvJV6Yst"
      },
      "source": [
        "import matplotlib.pyplot as plt\n",
        "import os\n",
        "import cv2\n",
        "import numpy as np\n",
        "import random\n",
        "\n",
        "import tensorflow as tf\n",
        "from tensorflow.keras.models import Sequential\n",
        "from tensorflow.keras.layers import Dense, Dropout, Activation, Flatten, Conv2D, MaxPooling2D\n",
        "from tensorflow.keras.callbacks import EarlyStopping\n",
        "from sklearn.model_selection import train_test_split\n",
        "import pickle"
      ],
      "execution_count": 3,
      "outputs": []
    },
    {
      "cell_type": "markdown",
      "metadata": {
        "id": "bbhIqqfDU-Cn"
      },
      "source": [
        "**Data Directory**"
      ]
    },
    {
      "cell_type": "code",
      "metadata": {
        "id": "e0ZmZTqU6_hJ"
      },
      "source": [
        "DATADIR = \"/content/drive/My Drive/Colab Notebooks/PandQ/\"\n",
        "CATEGORIES = [\"P\", \"Q\"]"
      ],
      "execution_count": 4,
      "outputs": []
    },
    {
      "cell_type": "markdown",
      "metadata": {
        "id": "V71-CX7wVGb0"
      },
      "source": [
        "**Creating Training Data**"
      ]
    },
    {
      "cell_type": "code",
      "metadata": {
        "colab": {
          "base_uri": "https://localhost:8080/"
        },
        "id": "iPCPl9BR7SYW",
        "outputId": "2a146256-51b5-4413-8b61-8f844c75ffc8"
      },
      "source": [
        "IMG_SIZE = 50\n",
        "\n",
        "training_data = []\n",
        "def create_training_data():\n",
        "    for category in CATEGORIES:\n",
        "        path = os.path.join(DATADIR, category)\n",
        "        class_num = CATEGORIES.index(category)\n",
        "        for img in os.listdir(path):\n",
        "            try:\n",
        "                img_array = cv2.imread(os.path.join(path,img), cv2.IMREAD_GRAYSCALE)\n",
        "                new_array = cv2.resize(img_array, (IMG_SIZE, IMG_SIZE))\n",
        "                training_data.append([new_array,class_num])\n",
        "            except Exception as e:\n",
        "                pass\n",
        "\n",
        "create_training_data()\n",
        "print(len(training_data))"
      ],
      "execution_count": 5,
      "outputs": [
        {
          "output_type": "stream",
          "text": [
            "40\n"
          ],
          "name": "stdout"
        }
      ]
    },
    {
      "cell_type": "markdown",
      "metadata": {
        "id": "WVO1PBsKVM2N"
      },
      "source": [
        "**Seperating Pics and Labels**"
      ]
    },
    {
      "cell_type": "code",
      "metadata": {
        "id": "T8U-5Ee673Y0"
      },
      "source": [
        "random.shuffle(training_data)\n",
        "\n",
        "X=[]\n",
        "Y=[]\n",
        "for features, label in training_data:\n",
        "    X.append(features)\n",
        "    Y.append(label)    "
      ],
      "execution_count": 86,
      "outputs": []
    },
    {
      "cell_type": "code",
      "metadata": {
        "id": "Okt0F8P7V7GK"
      },
      "source": [
        "X = np.array(X).reshape(-1, IMG_SIZE, IMG_SIZE,1)\n",
        "Y = np.array(Y)\n",
        "X = X/255.0"
      ],
      "execution_count": 87,
      "outputs": []
    },
    {
      "cell_type": "markdown",
      "metadata": {
        "id": "jLgEF9V0VRpR"
      },
      "source": [
        "**Spliting Data**"
      ]
    },
    {
      "cell_type": "code",
      "metadata": {
        "colab": {
          "base_uri": "https://localhost:8080/"
        },
        "id": "oVM7hHGa85Bv",
        "outputId": "4b46f9cd-12b9-4ac0-ca5d-c23b6f3ccbdd"
      },
      "source": [
        "x_train, x_test, y_train, y_test = train_test_split(    \n",
        "    X, Y, test_size=0.2, random_state=42)\n",
        "print(\"X.shape=\",X.shape)\n",
        "print(\"x_train.shape=\",x_train.shape)\n",
        "print(\"y_train.shape=\",y_train.shape)\n",
        "print(\"x_test.shape=\",x_test.shape)\n",
        "print(\"y_test.shape=\",y_test.shape)"
      ],
      "execution_count": 88,
      "outputs": [
        {
          "output_type": "stream",
          "text": [
            "X.shape= (40, 50, 50, 1)\n",
            "x_train.shape= (32, 50, 50, 1)\n",
            "y_train.shape= (32,)\n",
            "x_test.shape= (8, 50, 50, 1)\n",
            "y_test.shape= (8,)\n"
          ],
          "name": "stdout"
        }
      ]
    },
    {
      "cell_type": "markdown",
      "metadata": {
        "id": "kHXrFQwjwdx6"
      },
      "source": [
        "**Model**\n"
      ]
    },
    {
      "cell_type": "code",
      "metadata": {
        "id": "KhGcpc7Wlcko"
      },
      "source": [
        "model1 = Sequential()\n",
        "\n",
        "model1.add(Conv2D(32, (3,3) ,input_shape=X.shape[1:], activation=\"relu\"))\n",
        "model1.add(MaxPooling2D(pool_size=(2,2)))\n",
        "\n",
        "model1.add(Conv2D(64,(3,3), activation=\"relu\"))\n",
        "model1.add(MaxPooling2D(pool_size=(2,2)))\n",
        "\n",
        "model1.add(Conv2D(64,(3,3), activation=\"relu\"))\n",
        "model1.add(MaxPooling2D(pool_size=(2,2)))\n",
        "\n",
        "model1.add(Conv2D(128,(3,3), activation=\"relu\"))\n",
        "model1.add(MaxPooling2D(pool_size=(2,2)))\n",
        "\n",
        "model1.add(Flatten())\n",
        "model1.add(Dense(500, activation=\"relu\"))\n",
        "\n",
        "model1.add(Dense(1))\n",
        "model1.add(Activation('sigmoid'))\n",
        "\n",
        "# model1.summary()"
      ],
      "execution_count": 64,
      "outputs": []
    },
    {
      "cell_type": "code",
      "metadata": {
        "colab": {
          "base_uri": "https://localhost:8080/"
        },
        "id": "sy-UoSmAxLFU",
        "outputId": "e5ded06c-6c2e-4f4f-e15e-4e2a396d1166"
      },
      "source": [
        "model1.compile(loss=\"binary_crossentropy\", optimizer=\"adam\", metrics=['accuracy'])\n",
        "\n",
        "history = model1.fit(x_train, y_train,batch_size=32,epochs=10,validation_data=(x_test,y_test),verbose=2)"
      ],
      "execution_count": 65,
      "outputs": [
        {
          "output_type": "stream",
          "text": [
            "Epoch 1/10\n",
            "1/1 - 1s - loss: 0.6933 - accuracy: 0.4375 - val_loss: 0.6922 - val_accuracy: 0.5000\n",
            "Epoch 2/10\n",
            "1/1 - 0s - loss: 0.6903 - accuracy: 0.5312 - val_loss: 0.6903 - val_accuracy: 0.5000\n",
            "Epoch 3/10\n",
            "1/1 - 0s - loss: 0.6867 - accuracy: 0.5000 - val_loss: 0.6866 - val_accuracy: 0.5000\n",
            "Epoch 4/10\n",
            "1/1 - 0s - loss: 0.6822 - accuracy: 0.5000 - val_loss: 0.6823 - val_accuracy: 0.8750\n",
            "Epoch 5/10\n",
            "1/1 - 0s - loss: 0.6759 - accuracy: 0.9062 - val_loss: 0.6762 - val_accuracy: 0.8750\n",
            "Epoch 6/10\n",
            "1/1 - 0s - loss: 0.6677 - accuracy: 0.9688 - val_loss: 0.6663 - val_accuracy: 0.8750\n",
            "Epoch 7/10\n",
            "1/1 - 0s - loss: 0.6556 - accuracy: 0.9688 - val_loss: 0.6518 - val_accuracy: 1.0000\n",
            "Epoch 8/10\n",
            "1/1 - 0s - loss: 0.6396 - accuracy: 1.0000 - val_loss: 0.6338 - val_accuracy: 0.8750\n",
            "Epoch 9/10\n",
            "1/1 - 0s - loss: 0.6181 - accuracy: 1.0000 - val_loss: 0.6094 - val_accuracy: 0.8750\n",
            "Epoch 10/10\n",
            "1/1 - 0s - loss: 0.5894 - accuracy: 1.0000 - val_loss: 0.5781 - val_accuracy: 1.0000\n"
          ],
          "name": "stdout"
        }
      ]
    },
    {
      "cell_type": "markdown",
      "metadata": {
        "id": "_p9aNUFkWYrY"
      },
      "source": [
        "**Accuracy and Loss curves**"
      ]
    },
    {
      "cell_type": "code",
      "metadata": {
        "colab": {
          "base_uri": "https://localhost:8080/",
          "height": 545
        },
        "id": "AYykuJZWWX65",
        "outputId": "df29a810-2b80-420e-f0a2-a7b5cc4b61f2"
      },
      "source": [
        "acc = history.history['accuracy']\n",
        "val_acc = history.history['val_accuracy']\n",
        "loss = history.history['loss']\n",
        "val_loss = history.history['val_loss']\n",
        "\n",
        "epochs = range(len(acc))\n",
        "\n",
        "plt.plot(epochs, acc, 'b', label='Training acc')\n",
        "plt.plot(epochs, val_acc, 'r', label='Validation acc')\n",
        "plt.title('Training accuracy')\n",
        "plt.legend()\n",
        "\n",
        "plt.figure()\n",
        "\n",
        "plt.plot(epochs, loss, 'b', label='Training loss')\n",
        "plt.plot(epochs, val_loss, 'r', label='Validation loss')\n",
        "plt.title('Training loss')\n",
        "plt.legend()\n",
        "\n",
        "plt.show()"
      ],
      "execution_count": 66,
      "outputs": [
        {
          "output_type": "display_data",
          "data": {
            "image/png": "[encoded data removed]",
            "text/plain": [
              "<Figure size 432x288 with 1 Axes>"
            ]
          },
          "metadata": {
            "tags": [],
            "needs_background": "light"
          }
        },
        {
          "output_type": "display_data",
          "data": {
            "image/png": "[encoded data removed]",
            "text/plain": [
              "<Figure size 432x288 with 1 Axes>"
            ]
          },
          "metadata": {
            "tags": [],
            "needs_background": "light"
          }
        }
      ]
    },
    {
      "cell_type": "markdown",
      "metadata": {
        "id": "u0F6joIkpV1F"
      },
      "source": [
        "**Checking the performance of the model using test data**"
      ]
    },
    {
      "cell_type": "code",
      "metadata": {
        "id": "DZ5K_ogpoc72"
      },
      "source": [
        "model_predictions = model1.predict(x_test)"
      ],
      "execution_count": 89,
      "outputs": []
    },
    {
      "cell_type": "code",
      "metadata": {
        "colab": {
          "base_uri": "https://localhost:8080/"
        },
        "id": "cvRaSVIypk6F",
        "outputId": "9215c186-c7a9-4629-cdc7-c33f321cbd30"
      },
      "source": [
        "for i in range(len(y_test)):\n",
        "  print(\"Actual Label {} | Predicted_Label {}\".format(y_test[i], model_predictions[i]))"
      ],
      "execution_count": 90,
      "outputs": [
        {
          "output_type": "stream",
          "text": [
            "Actual Label 0 | Predicted_Label [0.4296101]\n",
            "Actual Label 0 | Predicted_Label [0.46677044]\n",
            "Actual Label 0 | Predicted_Label [0.3710617]\n",
            "Actual Label 1 | Predicted_Label [0.5794734]\n",
            "Actual Label 1 | Predicted_Label [0.59567493]\n",
            "Actual Label 0 | Predicted_Label [0.4762875]\n",
            "Actual Label 0 | Predicted_Label [0.43160355]\n",
            "Actual Label 0 | Predicted_Label [0.4530623]\n"
          ],
          "name": "stdout"
        }
      ]
    },
    {
      "cell_type": "markdown",
      "metadata": {
        "id": "nhTmLCjIptWx"
      },
      "source": [
        "**According to the result, all of the pictures are correctly classified. Let's see them visually**"
      ]
    },
    {
      "cell_type": "markdown",
      "metadata": {
        "id": "lhKiX-3Mp8Cm"
      },
      "source": [
        "**Each of the image from the test data, its Predicted Label, and Actual Label**"
      ]
    },
    {
      "cell_type": "code",
      "metadata": {
        "colab": {
          "base_uri": "https://localhost:8080/",
          "height": 1000
        },
        "id": "6otzg93SqLwj",
        "outputId": "13d1d520-bc88-443b-9a34-3e9137f30019"
      },
      "source": [
        "for i in range(len(x_test)):\n",
        "  plt.title(\"Actual Label {}\".format(y_test[i]))\n",
        "  plt.xlabel(\"Predicted_Label {}\".format(model_predictions[i]), fontsize=12)\n",
        "  plt.imshow(x_test[i].reshape(IMG_SIZE, IMG_SIZE), cmap=\"gray\")\n",
        "  plt.show()"
      ],
      "execution_count": 91,
      "outputs": [
        {
          "output_type": "display_data",
          "data": {
            "image/png": "[encoded data removed]",
            "text/plain": [
              "<Figure size 432x288 with 1 Axes>"
            ]
          },
          "metadata": {
            "tags": [],
            "needs_background": "light"
          }
        },
        {
          "output_type": "display_data",
          "data": {
            "image/png": "[encoded data removed]",
            "text/plain": [
              "<Figure size 432x288 with 1 Axes>"
            ]
          },
          "metadata": {
            "tags": [],
            "needs_background": "light"
          }
        },
        {
          "output_type": "display_data",
          "data": {
            "image/png": "[encoded data removed]",
            "text/plain": [
              "<Figure size 432x288 with 1 Axes>"
            ]
          },
          "metadata": {
            "tags": [],
            "needs_background": "light"
          }
        },
        {
          "output_type": "display_data",
          "data": {
            "image/png": "[encoded data removed]",
            "text/plain": [
              "<Figure size 432x288 with 1 Axes>"
            ]
          },
          "metadata": {
            "tags": [],
            "needs_background": "light"
          }
        },
        {
          "output_type": "display_data",
          "data": {
            "image/png": "[encoded data removed]",
            "text/plain": [
              "<Figure size 432x288 with 1 Axes>"
            ]
          },
          "metadata": {
            "tags": [],
            "needs_background": "light"
          }
        },
        {
          "output_type": "display_data",
          "data": {
            "image/png": "[encoded data removed]",
            "text/plain": [
              "<Figure size 432x288 with 1 Axes>"
            ]
          },
          "metadata": {
            "tags": [],
            "needs_background": "light"
          }
        },
        {
          "output_type": "display_data",
          "data": {
            "image/png": "[encoded data removed]",
            "text/plain": [
              "<Figure size 432x288 with 1 Axes>"
            ]
          },
          "metadata": {
            "tags": [],
            "needs_background": "light"
          }
        },
        {
          "output_type": "display_data",
          "data": {
            "image/png": "[encoded data removed]",
            "text/plain": [
              "<Figure size 432x288 with 1 Axes>"
            ]
          },
          "metadata": {
            "tags": [],
            "needs_background": "light"
          }
        }
      ]
    },
    {
      "cell_type": "markdown",
      "metadata": {
        "id": "8b2r_HRBqujP"
      },
      "source": [
        "**Woohooo! All of the pictures in the test data were correctly classified**"
      ]
    },
    {
      "cell_type": "markdown",
      "metadata": {
        "id": "p5oCL_jAr0yh"
      },
      "source": [
        "**Possible reasons because of which images can be misclassified**\n",
        "\n",
        "1- Model is trained on a small dataset <br>\n",
        "2- Dataset has so much variations <br>\n",
        "3- Model is not so good"
      ]
    },
    {
      "cell_type": "code",
      "metadata": {
        "id": "idQiBdqEIo8w"
      },
      "source": [
        ""
      ],
      "execution_count": null,
      "outputs": []
    }
  ]
}